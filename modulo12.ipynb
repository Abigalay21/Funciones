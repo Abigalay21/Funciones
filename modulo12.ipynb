{
 "cells": [
  {
   "cell_type": "markdown",
   "id": "6203b0ed-b165-4e60-b878-4fe810442fdf",
   "metadata": {},
   "source": [
    "# list_items_avaible"
   ]
  },
  {
   "cell_type": "code",
   "execution_count": 2,
   "id": "e263b9a2-f439-4ce6-b7e0-6eb06b793c88",
   "metadata": {},
   "outputs": [],
   "source": [
    "def list_items_available(inventario):\n",
    "    for producto, detalles in inventario.items():\n",
    "        print(f\"Producto: {producto}, Precio: {detalles['precio']}, Stock: {detalles['stock']}\")\n"
   ]
  },
  {
   "cell_type": "markdown",
   "id": "ae0bddf5-494f-4d85-af3c-4518a744fa70",
   "metadata": {},
   "source": [
    "# add_to_cart"
   ]
  },
  {
   "cell_type": "code",
   "execution_count": 5,
   "id": "02a4d61a-ac16-41ba-95a5-15760bfbc820",
   "metadata": {},
   "outputs": [],
   "source": [
    "def add_to_cart(carrito, inventario, producto, cantidad):\n",
    "    if producto in inventario and inventario[producto]['stock'] >= cantidad:\n",
    "        carrito.append({\"producto\": producto, \"cantidad\": cantidad, \"precio\": inventario[producto]['precio']})\n",
    "        inventario[producto]['stock'] -= cantidad\n",
    "    else:\n",
    "        print(\"Producto no disponible o cantidad insuficiente\")\n",
    "    return carrito\n"
   ]
  },
  {
   "cell_type": "markdown",
   "id": "d287f084-edf0-4b80-8fc9-4539ab2cc873",
   "metadata": {},
   "source": [
    "# list_my_orders "
   ]
  },
  {
   "cell_type": "code",
   "execution_count": null,
   "id": "08d9ef30-f24b-4cf8-87fc-6523c5308e37",
   "metadata": {},
   "outputs": [],
   "source": [
    "def list_my_orders(pedidos):\n",
    "    for pedido in pedidos:\n",
    "        print(f\"Pedido: {pedido['id']}, Productos: {pedido['productos']}, Total: {pedido['total']}\")\n"
   ]
  },
  {
   "cell_type": "markdown",
   "id": "124a9393-fe45-4d6b-9a1f-69d0375ebe48",
   "metadata": {},
   "source": [
    "# get_my_account_info"
   ]
  },
  {
   "cell_type": "code",
   "execution_count": null,
   "id": "2df697ea-6694-43a8-82e1-416c0602ae63",
   "metadata": {},
   "outputs": [],
   "source": [
    "def get_my_account_info(usuarios, usuario_id):\n",
    "    if usuario_id in usuarios:\n",
    "        info = usuarios[usuario_id]\n",
    "        print(f\"Nombre: {info['nombre']}, Email: {info['email']}, Dirección: {info['direccion']}\")\n",
    "    else:\n",
    "        print(\"Usuario no encontrado\")\n"
   ]
  },
  {
   "cell_type": "markdown",
   "id": "57b14f03-424a-4fdc-aa88-6089434f200e",
   "metadata": {},
   "source": [
    "# Ejemplo "
   ]
  },
  {
   "cell_type": "code",
   "execution_count": 1,
   "id": "69ada06c-ca0d-408d-bfd9-a017b54cc304",
   "metadata": {},
   "outputs": [
    {
     "ename": "NameError",
     "evalue": "name 'list_items_available' is not defined",
     "output_type": "error",
     "traceback": [
      "\u001b[1;31m---------------------------------------------------------------------------\u001b[0m",
      "\u001b[1;31mNameError\u001b[0m                                 Traceback (most recent call last)",
      "Cell \u001b[1;32mIn[1], line 23\u001b[0m\n\u001b[0;32m     18\u001b[0m usuarios \u001b[38;5;241m=\u001b[39m {\n\u001b[0;32m     19\u001b[0m     \u001b[38;5;241m1\u001b[39m: {\u001b[38;5;124m\"\u001b[39m\u001b[38;5;124mnombre\u001b[39m\u001b[38;5;124m\"\u001b[39m: \u001b[38;5;124m\"\u001b[39m\u001b[38;5;124mXimena Centeno\u001b[39m\u001b[38;5;124m\"\u001b[39m, \u001b[38;5;124m\"\u001b[39m\u001b[38;5;124memail\u001b[39m\u001b[38;5;124m\"\u001b[39m: \u001b[38;5;124m\"\u001b[39m\u001b[38;5;124mxim@gmail.com\u001b[39m\u001b[38;5;124m\"\u001b[39m, \u001b[38;5;124m\"\u001b[39m\u001b[38;5;124mdireccion\u001b[39m\u001b[38;5;124m\"\u001b[39m: \u001b[38;5;124m\"\u001b[39m\u001b[38;5;124mCalle camaron 14\u001b[39m\u001b[38;5;124m\"\u001b[39m}\n\u001b[0;32m     20\u001b[0m }\n\u001b[0;32m     22\u001b[0m \u001b[38;5;66;03m# Listar artículos disponibles\u001b[39;00m\n\u001b[1;32m---> 23\u001b[0m \u001b[43mlist_items_available\u001b[49m(inventario)\n\u001b[0;32m     25\u001b[0m \u001b[38;5;66;03m# Añadir productos al carrito\u001b[39;00m\n\u001b[0;32m     26\u001b[0m carrito \u001b[38;5;241m=\u001b[39m add_to_cart(carrito, inventario, \u001b[38;5;124m\"\u001b[39m\u001b[38;5;124mlaptop\u001b[39m\u001b[38;5;124m\"\u001b[39m, \u001b[38;5;241m1\u001b[39m)\n",
      "\u001b[1;31mNameError\u001b[0m: name 'list_items_available' is not defined"
     ]
    }
   ],
   "source": [
    "# Inventario de ejemplo\n",
    "inventario = {\n",
    "    \"laptop\": {\"precio\": 1000, \"stock\": 10},\n",
    "    \"mouse\": {\"precio\": 50, \"stock\": 100},\n",
    "    \"teclado\": {\"precio\": 75, \"stock\": 50}\n",
    "}\n",
    "\n",
    "# Carrito de compras del usuario\n",
    "carrito = []\n",
    "\n",
    "# Pedidos de ejemplo\n",
    "pedidos = [\n",
    "    {\"id\": 1, \"productos\": [\"laptop\", \"mouse\"], \"total\": 1050},\n",
    "    {\"id\": 2, \"productos\": [\"teclado\"], \"total\": 75}\n",
    "]\n",
    "\n",
    "# Información de usuarios de ejemplo\n",
    "usuarios = {\n",
    "    1: {\"nombre\": \"Ximena Centeno\", \"email\": \"xim@gmail.com\", \"direccion\": \"Calle camaron 14\"}\n",
    "}\n",
    "\n",
    "# Listar artículos disponibles\n",
    "list_items_available(inventario)\n",
    "\n",
    "# Añadir productos al carrito\n",
    "carrito = add_to_cart(carrito, inventario, \"laptop\", 1)\n",
    "carrito = add_to_cart(carrito, inventario, \"mouse\", 2)\n",
    "\n",
    "# Listar pedidos del usuario\n",
    "list_my_orders(pedidos)\n",
    "\n",
    "# Obtener información de la cuenta del usuario\n",
    "get_my_account_info(usuarios, 1)\n"
   ]
  },
  {
   "cell_type": "code",
   "execution_count": null,
   "id": "d628004d-0388-4751-8c70-c883f4f7ab51",
   "metadata": {},
   "outputs": [],
   "source": []
  },
  {
   "cell_type": "code",
   "execution_count": null,
   "id": "6f6282ae-9d49-4bc1-8722-fb5157c4ca03",
   "metadata": {},
   "outputs": [],
   "source": []
  },
  {
   "cell_type": "code",
   "execution_count": null,
   "id": "458178f1-9a9b-4523-a3d6-bc4cc4acf3b6",
   "metadata": {},
   "outputs": [],
   "source": []
  },
  {
   "cell_type": "code",
   "execution_count": null,
   "id": "98cd615e-4288-4c92-9257-80dd8dd3975d",
   "metadata": {},
   "outputs": [],
   "source": []
  }
 ],
 "metadata": {
  "kernelspec": {
   "display_name": "Python 3 (ipykernel)",
   "language": "python",
   "name": "python3"
  },
  "language_info": {
   "codemirror_mode": {
    "name": "ipython",
    "version": 3
   },
   "file_extension": ".py",
   "mimetype": "text/x-python",
   "name": "python",
   "nbconvert_exporter": "python",
   "pygments_lexer": "ipython3",
   "version": "3.12.5"
  }
 },
 "nbformat": 4,
 "nbformat_minor": 5
}
